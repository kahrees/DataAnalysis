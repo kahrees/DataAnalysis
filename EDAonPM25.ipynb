{
 "cells": [
  {
   "cell_type": "markdown",
   "id": "337f44b2",
   "metadata": {},
   "source": [
    "## Intro to the Dataset\n"
   ]
  },
  {
   "cell_type": "markdown",
   "id": "a7a8a4e6",
   "metadata": {},
   "source": [
    "Air Quality Index is measured with a variety of variables one of which is PM2.5. This means the density of particulate matter in the air measuring 2.5 or less micrometers. This is much less than the size of a singular human hair (50-70 microns). At this size, the particulate matter (pm25 in the dataset) can be inhaled and can cause a variety of health issues primarily in infants, children, the elderly and those with preexisiting heart or respitory issues. Having an idea of the particulate matter in the air can help officials and NGOs plan for hte health of a populace.\n",
    "\n",
    "Source of the Dataset: [Open Africa Lagos Air Pollution Data](https://open.africa/dataset/lagos-air-pollution-data/resource/68b430bc-e10b-454b-8f2e-e47215478462)"
   ]
  },
  {
   "cell_type": "code",
   "execution_count": 1,
   "id": "a25c7edf",
   "metadata": {},
   "outputs": [],
   "source": [
    "#Imports\n",
    "import pandas as pd\n",
    "import seaborn as sns\n",
    "import matplotlib.pyplot as plt"
   ]
  },
  {
   "cell_type": "code",
   "execution_count": 2,
   "id": "c9d4d3ec",
   "metadata": {},
   "outputs": [],
   "source": [
    "path = ('C:/Users/karis/Downloads/LagosAQI/Air Quality Data Lagos.csv')"
   ]
  },
  {
   "cell_type": "code",
   "execution_count": 3,
   "id": "520812e0",
   "metadata": {},
   "outputs": [
    {
     "data": {
      "application/vnd.microsoft.datawrangler.viewer.v0+json": {
       "columns": [
        {
         "name": "index",
         "rawType": "int64",
         "type": "integer"
        },
        {
         "name": "date",
         "rawType": "object",
         "type": "string"
        },
        {
         "name": "pm25",
         "rawType": "int64",
         "type": "integer"
        }
       ],
       "ref": "504bcaee-5fc7-431a-8bb8-0f366f407ed1",
       "rows": [
        [
         "0",
         "2023/4/1",
         "64"
        ],
        [
         "1",
         "2023/4/2",
         "53"
        ],
        [
         "2",
         "2023/4/3",
         "60"
        ],
        [
         "3",
         "2023/4/4",
         "98"
        ],
        [
         "4",
         "2023/1/2",
         "345"
        ]
       ],
       "shape": {
        "columns": 2,
        "rows": 5
       }
      },
      "text/html": [
       "<div>\n",
       "<style scoped>\n",
       "    .dataframe tbody tr th:only-of-type {\n",
       "        vertical-align: middle;\n",
       "    }\n",
       "\n",
       "    .dataframe tbody tr th {\n",
       "        vertical-align: top;\n",
       "    }\n",
       "\n",
       "    .dataframe thead th {\n",
       "        text-align: right;\n",
       "    }\n",
       "</style>\n",
       "<table border=\"1\" class=\"dataframe\">\n",
       "  <thead>\n",
       "    <tr style=\"text-align: right;\">\n",
       "      <th></th>\n",
       "      <th>date</th>\n",
       "      <th>pm25</th>\n",
       "    </tr>\n",
       "  </thead>\n",
       "  <tbody>\n",
       "    <tr>\n",
       "      <th>0</th>\n",
       "      <td>2023/4/1</td>\n",
       "      <td>64</td>\n",
       "    </tr>\n",
       "    <tr>\n",
       "      <th>1</th>\n",
       "      <td>2023/4/2</td>\n",
       "      <td>53</td>\n",
       "    </tr>\n",
       "    <tr>\n",
       "      <th>2</th>\n",
       "      <td>2023/4/3</td>\n",
       "      <td>60</td>\n",
       "    </tr>\n",
       "    <tr>\n",
       "      <th>3</th>\n",
       "      <td>2023/4/4</td>\n",
       "      <td>98</td>\n",
       "    </tr>\n",
       "    <tr>\n",
       "      <th>4</th>\n",
       "      <td>2023/1/2</td>\n",
       "      <td>345</td>\n",
       "    </tr>\n",
       "  </tbody>\n",
       "</table>\n",
       "</div>"
      ],
      "text/plain": [
       "       date  pm25\n",
       "0  2023/4/1    64\n",
       "1  2023/4/2    53\n",
       "2  2023/4/3    60\n",
       "3  2023/4/4    98\n",
       "4  2023/1/2   345"
      ]
     },
     "execution_count": 3,
     "metadata": {},
     "output_type": "execute_result"
    }
   ],
   "source": [
    "laqi = pd.read_csv(path)\n",
    "laqi.head()"
   ]
  },
  {
   "cell_type": "markdown",
   "id": "1a4695a4",
   "metadata": {},
   "source": [
    "The dates seem to be going backwards in time at the month section (ie from April to January)"
   ]
  },
  {
   "cell_type": "code",
   "execution_count": 4,
   "id": "a11afd81",
   "metadata": {},
   "outputs": [
    {
     "data": {
      "application/vnd.microsoft.datawrangler.viewer.v0+json": {
       "columns": [
        {
         "name": "index",
         "rawType": "int64",
         "type": "integer"
        },
        {
         "name": "date",
         "rawType": "object",
         "type": "string"
        },
        {
         "name": "pm25",
         "rawType": "int64",
         "type": "integer"
        }
       ],
       "ref": "71b981a6-9e3c-4d3b-a6e0-d32c64b633e7",
       "rows": [
        [
         "0",
         "2023/4/1",
         "64"
        ],
        [
         "1",
         "2023/4/2",
         "53"
        ],
        [
         "2",
         "2023/4/3",
         "60"
        ],
        [
         "3",
         "2023/4/4",
         "98"
        ],
        [
         "4",
         "2023/1/2",
         "345"
        ],
        [
         "5",
         "2023/1/3",
         "328"
        ],
        [
         "6",
         "2023/1/4",
         "475"
        ],
        [
         "7",
         "2023/1/12",
         "1"
        ],
        [
         "8",
         "2023/1/13",
         "1"
        ],
        [
         "9",
         "2023/1/17",
         "200"
        ]
       ],
       "shape": {
        "columns": 2,
        "rows": 10
       }
      },
      "text/html": [
       "<div>\n",
       "<style scoped>\n",
       "    .dataframe tbody tr th:only-of-type {\n",
       "        vertical-align: middle;\n",
       "    }\n",
       "\n",
       "    .dataframe tbody tr th {\n",
       "        vertical-align: top;\n",
       "    }\n",
       "\n",
       "    .dataframe thead th {\n",
       "        text-align: right;\n",
       "    }\n",
       "</style>\n",
       "<table border=\"1\" class=\"dataframe\">\n",
       "  <thead>\n",
       "    <tr style=\"text-align: right;\">\n",
       "      <th></th>\n",
       "      <th>date</th>\n",
       "      <th>pm25</th>\n",
       "    </tr>\n",
       "  </thead>\n",
       "  <tbody>\n",
       "    <tr>\n",
       "      <th>0</th>\n",
       "      <td>2023/4/1</td>\n",
       "      <td>64</td>\n",
       "    </tr>\n",
       "    <tr>\n",
       "      <th>1</th>\n",
       "      <td>2023/4/2</td>\n",
       "      <td>53</td>\n",
       "    </tr>\n",
       "    <tr>\n",
       "      <th>2</th>\n",
       "      <td>2023/4/3</td>\n",
       "      <td>60</td>\n",
       "    </tr>\n",
       "    <tr>\n",
       "      <th>3</th>\n",
       "      <td>2023/4/4</td>\n",
       "      <td>98</td>\n",
       "    </tr>\n",
       "    <tr>\n",
       "      <th>4</th>\n",
       "      <td>2023/1/2</td>\n",
       "      <td>345</td>\n",
       "    </tr>\n",
       "    <tr>\n",
       "      <th>5</th>\n",
       "      <td>2023/1/3</td>\n",
       "      <td>328</td>\n",
       "    </tr>\n",
       "    <tr>\n",
       "      <th>6</th>\n",
       "      <td>2023/1/4</td>\n",
       "      <td>475</td>\n",
       "    </tr>\n",
       "    <tr>\n",
       "      <th>7</th>\n",
       "      <td>2023/1/12</td>\n",
       "      <td>1</td>\n",
       "    </tr>\n",
       "    <tr>\n",
       "      <th>8</th>\n",
       "      <td>2023/1/13</td>\n",
       "      <td>1</td>\n",
       "    </tr>\n",
       "    <tr>\n",
       "      <th>9</th>\n",
       "      <td>2023/1/17</td>\n",
       "      <td>200</td>\n",
       "    </tr>\n",
       "  </tbody>\n",
       "</table>\n",
       "</div>"
      ],
      "text/plain": [
       "        date  pm25\n",
       "0   2023/4/1    64\n",
       "1   2023/4/2    53\n",
       "2   2023/4/3    60\n",
       "3   2023/4/4    98\n",
       "4   2023/1/2   345\n",
       "5   2023/1/3   328\n",
       "6   2023/1/4   475\n",
       "7  2023/1/12     1\n",
       "8  2023/1/13     1\n",
       "9  2023/1/17   200"
      ]
     },
     "execution_count": 4,
     "metadata": {},
     "output_type": "execute_result"
    }
   ],
   "source": [
    "#Observing More of the Top to Confirm my Theory \n",
    "laqi.head(10)"
   ]
  },
  {
   "cell_type": "code",
   "execution_count": 5,
   "id": "8e2d29c2",
   "metadata": {},
   "outputs": [
    {
     "data": {
      "application/vnd.microsoft.datawrangler.viewer.v0+json": {
       "columns": [
        {
         "name": "index",
         "rawType": "int64",
         "type": "integer"
        },
        {
         "name": "date",
         "rawType": "object",
         "type": "string"
        },
        {
         "name": "pm25",
         "rawType": "int64",
         "type": "integer"
        }
       ],
       "ref": "8441bf75-22de-4e8b-861c-7ae1eb4755c2",
       "rows": [
        [
         "660",
         "2021/3/26",
         "83"
        ],
        [
         "661",
         "2021/3/28",
         "120"
        ],
        [
         "662",
         "2021/3/29",
         "132"
        ],
        [
         "663",
         "2021/3/30",
         "148"
        ],
        [
         "664",
         "2021/3/31",
         "149"
        ]
       ],
       "shape": {
        "columns": 2,
        "rows": 5
       }
      },
      "text/html": [
       "<div>\n",
       "<style scoped>\n",
       "    .dataframe tbody tr th:only-of-type {\n",
       "        vertical-align: middle;\n",
       "    }\n",
       "\n",
       "    .dataframe tbody tr th {\n",
       "        vertical-align: top;\n",
       "    }\n",
       "\n",
       "    .dataframe thead th {\n",
       "        text-align: right;\n",
       "    }\n",
       "</style>\n",
       "<table border=\"1\" class=\"dataframe\">\n",
       "  <thead>\n",
       "    <tr style=\"text-align: right;\">\n",
       "      <th></th>\n",
       "      <th>date</th>\n",
       "      <th>pm25</th>\n",
       "    </tr>\n",
       "  </thead>\n",
       "  <tbody>\n",
       "    <tr>\n",
       "      <th>660</th>\n",
       "      <td>2021/3/26</td>\n",
       "      <td>83</td>\n",
       "    </tr>\n",
       "    <tr>\n",
       "      <th>661</th>\n",
       "      <td>2021/3/28</td>\n",
       "      <td>120</td>\n",
       "    </tr>\n",
       "    <tr>\n",
       "      <th>662</th>\n",
       "      <td>2021/3/29</td>\n",
       "      <td>132</td>\n",
       "    </tr>\n",
       "    <tr>\n",
       "      <th>663</th>\n",
       "      <td>2021/3/30</td>\n",
       "      <td>148</td>\n",
       "    </tr>\n",
       "    <tr>\n",
       "      <th>664</th>\n",
       "      <td>2021/3/31</td>\n",
       "      <td>149</td>\n",
       "    </tr>\n",
       "  </tbody>\n",
       "</table>\n",
       "</div>"
      ],
      "text/plain": [
       "          date  pm25\n",
       "660  2021/3/26    83\n",
       "661  2021/3/28   120\n",
       "662  2021/3/29   132\n",
       "663  2021/3/30   148\n",
       "664  2021/3/31   149"
      ]
     },
     "execution_count": 5,
     "metadata": {},
     "output_type": "execute_result"
    }
   ],
   "source": [
    "#then Checking the Bottom\n",
    "laqi.tail()"
   ]
  },
  {
   "cell_type": "markdown",
   "id": "66135cba",
   "metadata": {},
   "source": [
    "The dates go from Early April 2023 but start in 2021, probably March but the way the dates are going is unusual. The first five move backwards but the 2021 dates aren't adhering to even backwards chronological order. So, flipping the data from won't helpas the earliest date of record won't be the first"
   ]
  },
  {
   "cell_type": "code",
   "execution_count": 6,
   "id": "020374c5",
   "metadata": {},
   "outputs": [
    {
     "name": "stdout",
     "output_type": "stream",
     "text": [
      "<class 'pandas.core.frame.DataFrame'>\n",
      "RangeIndex: 665 entries, 0 to 664\n",
      "Data columns (total 2 columns):\n",
      " #   Column  Non-Null Count  Dtype \n",
      "---  ------  --------------  ----- \n",
      " 0   date    665 non-null    object\n",
      " 1   pm25    665 non-null    int64 \n",
      "dtypes: int64(1), object(1)\n",
      "memory usage: 10.5+ KB\n"
     ]
    }
   ],
   "source": [
    "#Check the data types\n",
    "laqi.info()"
   ]
  },
  {
   "cell_type": "code",
   "execution_count": 7,
   "id": "74cf18d3",
   "metadata": {},
   "outputs": [
    {
     "data": {
      "application/vnd.microsoft.datawrangler.viewer.v0+json": {
       "columns": [
        {
         "name": "index",
         "rawType": "object",
         "type": "string"
        },
        {
         "name": "0",
         "rawType": "int64",
         "type": "integer"
        }
       ],
       "ref": "d6bbf612-1d0b-418e-81ca-3912aab3eca0",
       "rows": [
        [
         "date",
         "0"
        ],
        [
         "pm25",
         "0"
        ]
       ],
       "shape": {
        "columns": 1,
        "rows": 2
       }
      },
      "text/plain": [
       "date    0\n",
       "pm25    0\n",
       "dtype: int64"
      ]
     },
     "execution_count": 7,
     "metadata": {},
     "output_type": "execute_result"
    }
   ],
   "source": [
    "laqi.isnull().sum()"
   ]
  },
  {
   "cell_type": "code",
   "execution_count": 8,
   "id": "c18a4eec",
   "metadata": {},
   "outputs": [
    {
     "data": {
      "application/vnd.microsoft.datawrangler.viewer.v0+json": {
       "columns": [
        {
         "name": "index",
         "rawType": "object",
         "type": "string"
        },
        {
         "name": "pm25",
         "rawType": "float64",
         "type": "float"
        }
       ],
       "ref": "19c9792b-0506-429e-9de0-541d44519ee7",
       "rows": [
        [
         "count",
         "665.0"
        ],
        [
         "mean",
         "98.31428571428572"
        ],
        [
         "std",
         "56.02599055706353"
        ],
        [
         "min",
         "1.0"
        ],
        [
         "25%",
         "60.0"
        ],
        [
         "50%",
         "90.0"
        ],
        [
         "75%",
         "129.0"
        ],
        [
         "max",
         "475.0"
        ]
       ],
       "shape": {
        "columns": 1,
        "rows": 8
       }
      },
      "text/html": [
       "<div>\n",
       "<style scoped>\n",
       "    .dataframe tbody tr th:only-of-type {\n",
       "        vertical-align: middle;\n",
       "    }\n",
       "\n",
       "    .dataframe tbody tr th {\n",
       "        vertical-align: top;\n",
       "    }\n",
       "\n",
       "    .dataframe thead th {\n",
       "        text-align: right;\n",
       "    }\n",
       "</style>\n",
       "<table border=\"1\" class=\"dataframe\">\n",
       "  <thead>\n",
       "    <tr style=\"text-align: right;\">\n",
       "      <th></th>\n",
       "      <th>pm25</th>\n",
       "    </tr>\n",
       "  </thead>\n",
       "  <tbody>\n",
       "    <tr>\n",
       "      <th>count</th>\n",
       "      <td>665.000000</td>\n",
       "    </tr>\n",
       "    <tr>\n",
       "      <th>mean</th>\n",
       "      <td>98.314286</td>\n",
       "    </tr>\n",
       "    <tr>\n",
       "      <th>std</th>\n",
       "      <td>56.025991</td>\n",
       "    </tr>\n",
       "    <tr>\n",
       "      <th>min</th>\n",
       "      <td>1.000000</td>\n",
       "    </tr>\n",
       "    <tr>\n",
       "      <th>25%</th>\n",
       "      <td>60.000000</td>\n",
       "    </tr>\n",
       "    <tr>\n",
       "      <th>50%</th>\n",
       "      <td>90.000000</td>\n",
       "    </tr>\n",
       "    <tr>\n",
       "      <th>75%</th>\n",
       "      <td>129.000000</td>\n",
       "    </tr>\n",
       "    <tr>\n",
       "      <th>max</th>\n",
       "      <td>475.000000</td>\n",
       "    </tr>\n",
       "  </tbody>\n",
       "</table>\n",
       "</div>"
      ],
      "text/plain": [
       "             pm25\n",
       "count  665.000000\n",
       "mean    98.314286\n",
       "std     56.025991\n",
       "min      1.000000\n",
       "25%     60.000000\n",
       "50%     90.000000\n",
       "75%    129.000000\n",
       "max    475.000000"
      ]
     },
     "execution_count": 8,
     "metadata": {},
     "output_type": "execute_result"
    }
   ],
   "source": [
    "laqi.describe()"
   ]
  },
  {
   "cell_type": "markdown",
   "id": "98e55d54",
   "metadata": {},
   "source": [
    "Fair to Good PM2.5 Density averaged over 24 hours should be less than 25."
   ]
  },
  {
   "cell_type": "code",
   "execution_count": 9,
   "id": "1b207003",
   "metadata": {},
   "outputs": [
    {
     "name": "stdout",
     "output_type": "stream",
     "text": [
      "The Particulate Matter Density was fair or good on 3.76% of recorded days\n"
     ]
    }
   ],
   "source": [
    "Fair_AQI = laqi.loc[laqi['pm25'] < 25]\n",
    "numofdays = (len(Fair_AQI))\n",
    "totalrecord = laqi.shape[0]\n",
    "\n",
    "percent = (numofdays/totalrecord) * 100\n",
    "percent = round(percent,2)\n",
    "print(f\"The Particulate Matter Density was fair or good on {percent}% of recorded days\")"
   ]
  },
  {
   "cell_type": "code",
   "execution_count": 10,
   "id": "ec682dbc",
   "metadata": {},
   "outputs": [],
   "source": [
    "#Date Conversion Libraries\n",
    "from datetime import datetime\n",
    "from datetime import date"
   ]
  },
  {
   "cell_type": "code",
   "execution_count": 11,
   "id": "26be8aca",
   "metadata": {},
   "outputs": [
    {
     "name": "stdout",
     "output_type": "stream",
     "text": [
      "        date  pm25\n",
      "0 2023-04-01    64\n",
      "1 2023-04-02    53\n",
      "2 2023-04-03    60\n",
      "3 2023-04-04    98\n",
      "4 2023-01-02   345\n",
      "          date  pm25\n",
      "660 2021-03-26    83\n",
      "661 2021-03-28   120\n",
      "662 2021-03-29   132\n",
      "663 2021-03-30   148\n",
      "664 2021-03-31   149\n",
      "<class 'pandas.core.frame.DataFrame'>\n",
      "RangeIndex: 665 entries, 0 to 664\n",
      "Data columns (total 2 columns):\n",
      " #   Column  Non-Null Count  Dtype         \n",
      "---  ------  --------------  -----         \n",
      " 0   date    665 non-null    datetime64[ns]\n",
      " 1   pm25    665 non-null    int64         \n",
      "dtypes: datetime64[ns](1), int64(1)\n",
      "memory usage: 10.5 KB\n",
      "None\n"
     ]
    }
   ],
   "source": [
    "#Convert to date type so I can organize\n",
    "laqi['date'] = pd.to_datetime(laqi['date'], format = 'mixed')\n",
    "pd.set_option(\"display.date_dayfirst\", True)\n",
    "\n",
    "#Check if it worked\n",
    "print(laqi.head())\n",
    "print(laqi.tail())\n",
    "print(laqi.info())\n",
    "\n"
   ]
  },
  {
   "cell_type": "code",
   "execution_count": 12,
   "id": "df2886cd",
   "metadata": {},
   "outputs": [
    {
     "data": {
      "text/plain": [
       "Timestamp('2021-01-04 00:00:00')"
      ]
     },
     "execution_count": 12,
     "metadata": {},
     "output_type": "execute_result"
    }
   ],
   "source": [
    "#This is where the dataframe should start from\n",
    "laqi['date'].min()"
   ]
  },
  {
   "cell_type": "code",
   "execution_count": 13,
   "id": "14379e0d",
   "metadata": {},
   "outputs": [
    {
     "data": {
      "text/plain": [
       "Timestamp('2023-04-04 00:00:00')"
      ]
     },
     "execution_count": 13,
     "metadata": {},
     "output_type": "execute_result"
    }
   ],
   "source": [
    "#This is where is should end\n",
    "laqi['date'].max()"
   ]
  },
  {
   "cell_type": "code",
   "execution_count": 14,
   "id": "1b0002a7",
   "metadata": {},
   "outputs": [
    {
     "name": "stdout",
     "output_type": "stream",
     "text": [
      "          date  pm25\n",
      "579 2021-01-04    98\n",
      "580 2021-01-05    98\n",
      "581 2021-01-06    80\n",
      "582 2021-01-07    92\n",
      "583 2021-01-08    65\n",
      "         date  pm25\n",
      "36 2023-03-31    73\n",
      "0  2023-04-01    64\n",
      "1  2023-04-02    53\n",
      "2  2023-04-03    60\n",
      "3  2023-04-04    98\n"
     ]
    }
   ],
   "source": [
    "data = laqi.sort_values(by='date')\n",
    "\n",
    "print(data.head())\n",
    "print(data.tail())"
   ]
  },
  {
   "cell_type": "markdown",
   "id": "b4748d5f",
   "metadata": {},
   "source": [
    "Hallelujah"
   ]
  },
  {
   "cell_type": "code",
   "execution_count": 15,
   "id": "9222a1e2",
   "metadata": {},
   "outputs": [
    {
     "data": {
      "application/vnd.microsoft.datawrangler.viewer.v0+json": {
       "columns": [
        {
         "name": "index",
         "rawType": "object",
         "type": "string"
        },
        {
         "name": "0",
         "rawType": "int64",
         "type": "integer"
        }
       ],
       "ref": "9e49b330-7d96-47ed-ad5b-7bd2ddd51d90",
       "rows": [
        [
         "date",
         "665"
        ],
        [
         "pm25",
         "172"
        ]
       ],
       "shape": {
        "columns": 1,
        "rows": 2
       }
      },
      "text/plain": [
       "date    665\n",
       "pm25    172\n",
       "dtype: int64"
      ]
     },
     "execution_count": 15,
     "metadata": {},
     "output_type": "execute_result"
    }
   ],
   "source": [
    "data.nunique()"
   ]
  },
  {
   "cell_type": "markdown",
   "id": "4c257e47",
   "metadata": {},
   "source": [
    "This means at least all the dates are unqiue even if several dates record the same PM2.5"
   ]
  },
  {
   "cell_type": "markdown",
   "id": "1bf8a1a1",
   "metadata": {},
   "source": [
    "## Time to Graph"
   ]
  },
  {
   "cell_type": "code",
   "execution_count": 16,
   "id": "d21c4197",
   "metadata": {},
   "outputs": [
    {
     "data": {
      "text/plain": [
       "[Text(0.5, 1.0, 'Lagos Particulate Matter 2.5 Micrometers or Less: January 2021 - April 2023'),\n",
       " Text(0.5, 0, 'Date'),\n",
       " Text(0, 0.5, 'Particulate Matter (2.5)')]"
      ]
     },
     "execution_count": 16,
     "metadata": {},
     "output_type": "execute_result"
    },
    {
     "data": {
      "image/png": "[encoded data removed]",
      "text/plain": [
       "<Figure size 2000x500 with 1 Axes>"
      ]
     },
     "metadata": {},
     "output_type": "display_data"
    }
   ],
   "source": [
    "fig = plt.subplots(figsize=(20,5))\n",
    "sns.lineplot(x = 'date', y = 'pm25', data = data).set(title='Lagos Particulate Matter 2.5 Micrometers or Less: January 2021 - April 2023', xlabel = 'Date', ylabel = 'Particulate Matter (2.5)')"
   ]
  }
 ],
 "metadata": {
  "kernelspec": {
   "display_name": "Python 3",
   "language": "python",
   "name": "python3"
  },
  "language_info": {
   "codemirror_mode": {
    "name": "ipython",
    "version": 3
   },
   "file_extension": ".py",
   "mimetype": "text/x-python",
   "name": "python",
   "nbconvert_exporter": "python",
   "pygments_lexer": "ipython3",
   "version": "3.13.3"
  }
 },
 "nbformat": 4,
 "nbformat_minor": 5
}
